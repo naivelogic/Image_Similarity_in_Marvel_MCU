{
 "cells": [
  {
   "cell_type": "markdown",
   "metadata": {},
   "source": [
    "https://github.com/urbanlist/sunset-list/blob/master/analysis_picture.ipynb\n",
    "\n",
    "https://github.com/robintw/Breathing-Spaces-code/blob/master/Azure%20Table%20Playground.ipynb"
   ]
  },
  {
   "cell_type": "code",
   "execution_count": 1,
   "metadata": {},
   "outputs": [
    {
     "name": "stdout",
     "output_type": "stream",
     "text": [
      "azureblob\n"
     ]
    },
    {
     "name": "stderr",
     "output_type": "stream",
     "text": [
      "/home/redne/anaconda3/envs/tf/lib/python3.7/site-packages/ipykernel_launcher.py:3: YAMLLoadWarning: calling yaml.load() without Loader=... is deprecated, as the default Loader is unsafe. Please read https://msg.pyyaml.org/load for full details.\n",
      "  This is separate from the ipykernel package so we can avoid doing imports until\n"
     ]
    }
   ],
   "source": [
    "import yaml\n",
    "with open(\"config.yml\", 'r') as ymlfile:\n",
    "    cfg = yaml.load(ymlfile)\n",
    "\n",
    "for section in cfg:\n",
    "    print(section)\n",
    "#print(cfg['azureblob'])"
   ]
  },
  {
   "cell_type": "code",
   "execution_count": 5,
   "metadata": {},
   "outputs": [],
   "source": [
    "from azure.storage.blob import BlockBlobService as BlobService\n",
    "from azure.cosmosdb.table.tableservice import TableService\n",
    "from azure.cosmosdb.table.models import Entity\n",
    "\n",
    "TABLENAME = cfg['azureblob']['tablename']\n",
    "\n",
    "table_service = TableService(connection_string=cfg['azureblob']['connectionKey'])\n",
    "entities = table_service.query_entities(TABLENAME, filter=cfg['azureblob']['partitionConfig'])"
   ]
  },
  {
   "cell_type": "code",
   "execution_count": 6,
   "metadata": {},
   "outputs": [
    {
     "data": {
      "text/plain": [
       "{'PartitionKey': 'PoeRecycle_test',\n",
       " 'RowKey': '1178',\n",
       " 'Timestamp': datetime.datetime(2020, 1, 8, 23, 40, 29, 80830, tzinfo=tzlocal()),\n",
       " 'features': '[0.7311899  0.6004813  0.05073603 ... 0.02860925 0.51185036 0.0799128 ]',\n",
       " 'image': '<PIL.Image.Image image mode=RGB size=224x224 at 0x7F63DB547690>',\n",
       " 'image_folder': 'aHR0cHM6Ly9idHBvY3ZoZHMuYmxvYi5jb3JlLndpbmRvd3MubmV0L3BvZG9jcy9CUlpNU0ludi85NzA3ODc1OS8wMDk3MDc4NzU5LzFfUE9FX01JQ1JPX1hCT1hfT1NJUklTJkdVQVJESUFOU19GWTE2X0RlY2VtYmVyLnBkZg2',\n",
       " 'image_path': './mnt/poeBlob1/output_images/aHR0cHM6Ly9idHBvY3ZoZHMuYmxvYi5jb3JlLndpbmRvd3MubmV0L3BvZG9jcy9CUlpNU0ludi85NzA3ODc1OS8wMDk3MDc4NzU5LzFfUE9FX01JQ1JPX1hCT1hfT1NJUklTJkdVQVJESUFOU19GWTE2X0RlY2VtYmVyLnBkZg2/normalized_images_82.jpg',\n",
       " 'image_path_code': <azure.cosmosdb.table.models.EntityProperty at 0x7f789382ec90>,\n",
       " 'etag': 'W/\"datetime\\'2020-01-08T23%3A40%3A29.0808301Z\\'\"'}"
      ]
     },
     "execution_count": 6,
     "metadata": {},
     "output_type": "execute_result"
    }
   ],
   "source": [
    "entity = entities.items[200]\n",
    "entity"
   ]
  },
  {
   "cell_type": "raw",
   "metadata": {},
   "source": [
    "from PIL import Image\n",
    "import requests\n",
    "\n",
    "url = entity.image_path\n",
    "image = Image.open(requests.get(url, stream=True).raw)"
   ]
  },
  {
   "cell_type": "markdown",
   "metadata": {},
   "source": [
    "### Explore data in Azure blob storage with pandas\n",
    "\n",
    "https://docs.microsoft.com/en-us/azure/machine-learning/team-data-science-process/explore-data-blob\n",
    "\n",
    "https://www.jitsejan.com/creating-dataframe-from-table-storage.html"
   ]
  },
  {
   "cell_type": "code",
   "execution_count": 42,
   "metadata": {},
   "outputs": [],
   "source": [
    "import pandas as pd\n",
    "from azure.cosmosdb.table.tableservice import TableService\n",
    "\n",
    "CONNECTION_STRING = cfg['azureblob']['connectionKey']\n",
    "SOURCE_TABLE = cfg['azureblob']['tablename']\n",
    "\n",
    "def set_table_service():\n",
    "    \"\"\" Set the Azure Table Storage service \"\"\"\n",
    "    return TableService(connection_string=CONNECTION_STRING)\n",
    "\n",
    "def get_dataframe_from_table_storage_table(table_service, filter_query):\n",
    "    \"\"\" Create a dataframe from table storage data \"\"\"\n",
    "    return pd.DataFrame(get_data_from_table_storage_table(table_service,\n",
    "                                                          filter_query))\n",
    "\n",
    "def get_data_from_table_storage_table(table_service, filter_query):\n",
    "    \"\"\" Retrieve data from Table Storage \"\"\"\n",
    "    for record in table_service.query_entities(\n",
    "        SOURCE_TABLE, filter=filter_query\n",
    "    ):\n",
    "        yield record"
   ]
  },
  {
   "cell_type": "code",
   "execution_count": 48,
   "metadata": {},
   "outputs": [],
   "source": [
    "#fq = \"PartitionKey eq 'PoeRecycle_test'\"\n",
    "fq = cfg['azureblob']['partitionConfig']\n",
    "ts = set_table_service()\n",
    "df = get_dataframe_from_table_storage_table(table_service=ts,\n",
    "                                            filter_query=fq)"
   ]
  },
  {
   "cell_type": "code",
   "execution_count": 49,
   "metadata": {},
   "outputs": [
    {
     "data": {
      "text/html": [
       "<div>\n",
       "<style scoped>\n",
       "    .dataframe tbody tr th:only-of-type {\n",
       "        vertical-align: middle;\n",
       "    }\n",
       "\n",
       "    .dataframe tbody tr th {\n",
       "        vertical-align: top;\n",
       "    }\n",
       "\n",
       "    .dataframe thead th {\n",
       "        text-align: right;\n",
       "    }\n",
       "</style>\n",
       "<table border=\"1\" class=\"dataframe\">\n",
       "  <thead>\n",
       "    <tr style=\"text-align: right;\">\n",
       "      <th></th>\n",
       "      <th>PartitionKey</th>\n",
       "      <th>RowKey</th>\n",
       "      <th>Timestamp</th>\n",
       "      <th>features</th>\n",
       "      <th>image</th>\n",
       "      <th>image_folder</th>\n",
       "      <th>image_path</th>\n",
       "      <th>image_path_code</th>\n",
       "      <th>etag</th>\n",
       "    </tr>\n",
       "  </thead>\n",
       "  <tbody>\n",
       "    <tr>\n",
       "      <td>0</td>\n",
       "      <td>PoeRecycle_test</td>\n",
       "      <td>0</td>\n",
       "      <td>2020-01-08 23:40:19.977464+00:00</td>\n",
       "      <td>[1.0852401  0.5258224  0.00315639 ... 0.372240...</td>\n",
       "      <td>&lt;PIL.Image.Image image mode=RGB size=224x224 a...</td>\n",
       "      <td>aHR0cHM6Ly9idHBvY3ZoZHMuYmxvYi5jb3JlLndpbmRvd3...</td>\n",
       "      <td>./mnt/poeBlob1/output_images/aHR0cHM6Ly9idHBvY...</td>\n",
       "      <td>&lt;azure.cosmosdb.table.models.EntityProperty ob...</td>\n",
       "      <td>W/\"datetime'2020-01-08T23%3A40%3A19.9774644Z'\"</td>\n",
       "    </tr>\n",
       "    <tr>\n",
       "      <td>1</td>\n",
       "      <td>PoeRecycle_test</td>\n",
       "      <td>1</td>\n",
       "      <td>2020-01-08 23:40:19.978465+00:00</td>\n",
       "      <td>[0.50558424 0.51385236 0.01591536 ... 0.396106...</td>\n",
       "      <td>&lt;PIL.Image.Image image mode=RGB size=224x224 a...</td>\n",
       "      <td>aHR0cHM6Ly9idHBvY3ZoZHMuYmxvYi5jb3JlLndpbmRvd3...</td>\n",
       "      <td>./mnt/poeBlob1/output_images/aHR0cHM6Ly9idHBvY...</td>\n",
       "      <td>&lt;azure.cosmosdb.table.models.EntityProperty ob...</td>\n",
       "      <td>W/\"datetime'2020-01-08T23%3A40%3A19.9784655Z'\"</td>\n",
       "    </tr>\n",
       "    <tr>\n",
       "      <td>2</td>\n",
       "      <td>PoeRecycle_test</td>\n",
       "      <td>10</td>\n",
       "      <td>2020-01-08 23:40:19.979465+00:00</td>\n",
       "      <td>[1.3110572  0.31182456 0.22548741 ... 0.013136...</td>\n",
       "      <td>&lt;PIL.Image.Image image mode=RGB size=224x224 a...</td>\n",
       "      <td>aHR0cHM6Ly9idHBvY3ZoZHMuYmxvYi5jb3JlLndpbmRvd3...</td>\n",
       "      <td>./mnt/poeBlob1/output_images/aHR0cHM6Ly9idHBvY...</td>\n",
       "      <td>&lt;azure.cosmosdb.table.models.EntityProperty ob...</td>\n",
       "      <td>W/\"datetime'2020-01-08T23%3A40%3A19.9794658Z'\"</td>\n",
       "    </tr>\n",
       "    <tr>\n",
       "      <td>3</td>\n",
       "      <td>PoeRecycle_test</td>\n",
       "      <td>100</td>\n",
       "      <td>2020-01-08 23:40:21.362437+00:00</td>\n",
       "      <td>[0.02647619 0.34645134 0.         ... 0.248528...</td>\n",
       "      <td>&lt;PIL.Image.Image image mode=RGB size=224x224 a...</td>\n",
       "      <td>aHR0cHM6Ly9idHBvY3ZoZHMuYmxvYi5jb3JlLndpbmRvd3...</td>\n",
       "      <td>./mnt/poeBlob1/output_images/aHR0cHM6Ly9idHBvY...</td>\n",
       "      <td>&lt;azure.cosmosdb.table.models.EntityProperty ob...</td>\n",
       "      <td>W/\"datetime'2020-01-08T23%3A40%3A21.3624372Z'\"</td>\n",
       "    </tr>\n",
       "    <tr>\n",
       "      <td>4</td>\n",
       "      <td>PoeRecycle_test</td>\n",
       "      <td>1000</td>\n",
       "      <td>2020-01-08 23:40:27.639824+00:00</td>\n",
       "      <td>[0.11525676 0.89375764 0.00413675 ... 2.588224...</td>\n",
       "      <td>&lt;PIL.Image.Image image mode=RGB size=224x224 a...</td>\n",
       "      <td>aHR0cHM6Ly9idHBvY3ZoZHMuYmxvYi5jb3JlLndpbmRvd3...</td>\n",
       "      <td>./mnt/poeBlob1/output_images/aHR0cHM6Ly9idHBvY...</td>\n",
       "      <td>&lt;azure.cosmosdb.table.models.EntityProperty ob...</td>\n",
       "      <td>W/\"datetime'2020-01-08T23%3A40%3A27.6398245Z'\"</td>\n",
       "    </tr>\n",
       "  </tbody>\n",
       "</table>\n",
       "</div>"
      ],
      "text/plain": [
       "      PartitionKey RowKey                        Timestamp  \\\n",
       "0  PoeRecycle_test      0 2020-01-08 23:40:19.977464+00:00   \n",
       "1  PoeRecycle_test      1 2020-01-08 23:40:19.978465+00:00   \n",
       "2  PoeRecycle_test     10 2020-01-08 23:40:19.979465+00:00   \n",
       "3  PoeRecycle_test    100 2020-01-08 23:40:21.362437+00:00   \n",
       "4  PoeRecycle_test   1000 2020-01-08 23:40:27.639824+00:00   \n",
       "\n",
       "                                            features  \\\n",
       "0  [1.0852401  0.5258224  0.00315639 ... 0.372240...   \n",
       "1  [0.50558424 0.51385236 0.01591536 ... 0.396106...   \n",
       "2  [1.3110572  0.31182456 0.22548741 ... 0.013136...   \n",
       "3  [0.02647619 0.34645134 0.         ... 0.248528...   \n",
       "4  [0.11525676 0.89375764 0.00413675 ... 2.588224...   \n",
       "\n",
       "                                               image  \\\n",
       "0  <PIL.Image.Image image mode=RGB size=224x224 a...   \n",
       "1  <PIL.Image.Image image mode=RGB size=224x224 a...   \n",
       "2  <PIL.Image.Image image mode=RGB size=224x224 a...   \n",
       "3  <PIL.Image.Image image mode=RGB size=224x224 a...   \n",
       "4  <PIL.Image.Image image mode=RGB size=224x224 a...   \n",
       "\n",
       "                                        image_folder  \\\n",
       "0  aHR0cHM6Ly9idHBvY3ZoZHMuYmxvYi5jb3JlLndpbmRvd3...   \n",
       "1  aHR0cHM6Ly9idHBvY3ZoZHMuYmxvYi5jb3JlLndpbmRvd3...   \n",
       "2  aHR0cHM6Ly9idHBvY3ZoZHMuYmxvYi5jb3JlLndpbmRvd3...   \n",
       "3  aHR0cHM6Ly9idHBvY3ZoZHMuYmxvYi5jb3JlLndpbmRvd3...   \n",
       "4  aHR0cHM6Ly9idHBvY3ZoZHMuYmxvYi5jb3JlLndpbmRvd3...   \n",
       "\n",
       "                                          image_path  \\\n",
       "0  ./mnt/poeBlob1/output_images/aHR0cHM6Ly9idHBvY...   \n",
       "1  ./mnt/poeBlob1/output_images/aHR0cHM6Ly9idHBvY...   \n",
       "2  ./mnt/poeBlob1/output_images/aHR0cHM6Ly9idHBvY...   \n",
       "3  ./mnt/poeBlob1/output_images/aHR0cHM6Ly9idHBvY...   \n",
       "4  ./mnt/poeBlob1/output_images/aHR0cHM6Ly9idHBvY...   \n",
       "\n",
       "                                     image_path_code  \\\n",
       "0  <azure.cosmosdb.table.models.EntityProperty ob...   \n",
       "1  <azure.cosmosdb.table.models.EntityProperty ob...   \n",
       "2  <azure.cosmosdb.table.models.EntityProperty ob...   \n",
       "3  <azure.cosmosdb.table.models.EntityProperty ob...   \n",
       "4  <azure.cosmosdb.table.models.EntityProperty ob...   \n",
       "\n",
       "                                             etag  \n",
       "0  W/\"datetime'2020-01-08T23%3A40%3A19.9774644Z'\"  \n",
       "1  W/\"datetime'2020-01-08T23%3A40%3A19.9784655Z'\"  \n",
       "2  W/\"datetime'2020-01-08T23%3A40%3A19.9794658Z'\"  \n",
       "3  W/\"datetime'2020-01-08T23%3A40%3A21.3624372Z'\"  \n",
       "4  W/\"datetime'2020-01-08T23%3A40%3A27.6398245Z'\"  "
      ]
     },
     "execution_count": 49,
     "metadata": {},
     "output_type": "execute_result"
    }
   ],
   "source": [
    "df.head()"
   ]
  },
  {
   "cell_type": "code",
   "execution_count": 63,
   "metadata": {},
   "outputs": [
    {
     "data": {
      "text/plain": [
       "'<PIL.Image.Image image mode=RGB size=224x224 at 0x7F63DB7849D0>'"
      ]
     },
     "metadata": {},
     "output_type": "display_data"
    }
   ],
   "source": [
    "display(df.image[0])"
   ]
  }
 ],
 "metadata": {
  "kernelspec": {
   "display_name": "Python 3",
   "language": "python",
   "name": "python3"
  },
  "language_info": {
   "codemirror_mode": {
    "name": "ipython",
    "version": 3
   },
   "file_extension": ".py",
   "mimetype": "text/x-python",
   "name": "python",
   "nbconvert_exporter": "python",
   "pygments_lexer": "ipython3",
   "version": "3.7.4"
  }
 },
 "nbformat": 4,
 "nbformat_minor": 2
}
