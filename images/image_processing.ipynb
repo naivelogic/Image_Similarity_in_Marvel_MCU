{
 "cells": [
  {
   "cell_type": "code",
   "execution_count": 25,
   "metadata": {},
   "outputs": [],
   "source": [
    "from pytube import YouTube\n",
    "import os\n",
    "\n",
    "def downloadYouTube(videourl, path):\n",
    "\n",
    "    yt = YouTube(videourl)\n",
    "    yt = yt.streams.filter(progressive=True, file_extension='mp4').order_by('resolution').desc().first()\n",
    "    if not os.path.exists(path):\n",
    "        os.makedirs(path)\n",
    "    yt.download(path)\n",
    "\n",
    "downloadYouTube('https://www.youtube.com/watch?v=2NQkboX9z4c', './mcu_images/')"
   ]
  },
  {
   "cell_type": "code",
   "execution_count": 5,
   "metadata": {},
   "outputs": [],
   "source": [
    "import cv2\n",
    "\n",
    "\n",
    "def capture_video_image(youtube_video, frame_rate=5):\n",
    "    image_name = youtube_video[:-4]+\"_\"\n",
    "    vidcap = cv2.VideoCapture(youtube_video)\n",
    "    \n",
    "    def getFrame(sec, image_name):\n",
    "        vidcap.set(cv2.CAP_PROP_POS_MSEC,sec*1000)\n",
    "        hasFrames,image = vidcap.read()\n",
    "        if hasFrames:\n",
    "            cv2.imwrite(image_name+str(count)+\".jpg\", image)     # save frame as JPG file\n",
    "        return hasFrames\n",
    "\n",
    "    sec = 0\n",
    "    frameRate = frame_rate #5 #//it will capture image in each 5 second\n",
    "    count=1\n",
    "    success = getFrame(sec, image_name)\n",
    "    while success:\n",
    "        count = count + 1\n",
    "        sec = sec + frameRate\n",
    "        sec = round(sec, 2)\n",
    "        success = getFrame(sec, image_name)\n",
    "    \n",
    "    print(\"image capture completed for: \", youtube_video)\n",
    "\n",
    "    \n",
    "    \n",
    "    "
   ]
  },
  {
   "cell_type": "code",
   "execution_count": 22,
   "metadata": {},
   "outputs": [
    {
     "name": "stdout",
     "output_type": "stream",
     "text": [
      "image capture completed for:  ./mcu_images/mcu_best_avenger_danco.mp4\n"
     ]
    }
   ],
   "source": [
    "capture_video_image('./mcu_images/mcu_evolution.mp4', frame_rate=5)"
   ]
  },
  {
   "cell_type": "code",
   "execution_count": null,
   "metadata": {},
   "outputs": [],
   "source": []
  }
 ],
 "metadata": {
  "kernelspec": {
   "display_name": "Python 3",
   "language": "python",
   "name": "python3"
  },
  "language_info": {
   "codemirror_mode": {
    "name": "ipython",
    "version": 3
   },
   "file_extension": ".py",
   "mimetype": "text/x-python",
   "name": "python",
   "nbconvert_exporter": "python",
   "pygments_lexer": "ipython3",
   "version": "3.7.4"
  }
 },
 "nbformat": 4,
 "nbformat_minor": 4
}
